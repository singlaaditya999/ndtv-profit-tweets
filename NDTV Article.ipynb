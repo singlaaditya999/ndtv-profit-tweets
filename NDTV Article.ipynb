{
 "cells": [
  {
   "cell_type": "code",
   "execution_count": 14,
   "metadata": {},
   "outputs": [],
   "source": [
    "import urllib.request\n",
    "import json\n",
    "from urllib.request import Request, urlopen\n",
    "\n",
    "req = Request('https://www.ndtv.com/business/rbi-cuts-key-lending-rate-by-0-25-heres-what-experts-say-2111753', headers={'User-Agent': 'Chrome/5.0'})\n",
    "url='https://www.ndtv.com/business/rbi-cuts-key-lending-rate-by-0-25-heres-what-experts-say-2111753'\n"
   ]
  },
  {
   "cell_type": "code",
   "execution_count": 15,
   "metadata": {},
   "outputs": [],
   "source": [
    "open_website = urllib.request.urlopen(req)\n",
    "from bs4 import BeautifulSoup\n",
    "data = BeautifulSoup(open_website,\"html.parser\")"
   ]
  },
  {
   "cell_type": "code",
   "execution_count": 16,
   "metadata": {},
   "outputs": [],
   "source": [
    "f=open(\"title.txt\",'w')\n",
    "f.write(\"URL:- \"+ (url)+'\\n')\n",
    "f.close()"
   ]
  },
  {
   "cell_type": "code",
   "execution_count": 17,
   "metadata": {},
   "outputs": [],
   "source": [
    "source = data.find('a',attrs={\"title\":\"NDTV\"})\n",
    "f=open(\"title.txt\",'a')\n",
    "f.write(\"Source:- \"+ source.get_text()+'\\n')\n",
    "f.close()"
   ]
  },
  {
   "cell_type": "code",
   "execution_count": 18,
   "metadata": {},
   "outputs": [],
   "source": [
    "title_data=data.find_all('title')\n",
    "f=open('title.txt','a')\n",
    "for title in title_data:\n",
    "    f.write(\"TITLE:- \" +title.get_text(\"\")+'\\n'+'\\n')\n",
    "f.close()"
   ]
  },
  {
   "cell_type": "code",
   "execution_count": 19,
   "metadata": {},
   "outputs": [],
   "source": [
    "para_data=data.find_all('div',attrs={\"class\":\"ins_storybody\"})\n",
    "f=open('title.txt','a')\n",
    "for para in para_data:\n",
    "    f.write(\"Content :-\"+para.get_text(\"\")+'\\n'+'\\n')\n",
    "f.close()"
   ]
  },
  {
   "cell_type": "code",
   "execution_count": 20,
   "metadata": {},
   "outputs": [],
   "source": [
    "import re\n",
    "images = data.find_all('div',attrs={\"class\":\"story_image_main\"})\n",
    "image_data=data.find_all('img')\n"
   ]
  },
  {
   "cell_type": "code",
   "execution_count": 21,
   "metadata": {},
   "outputs": [],
   "source": [
    "import re\n",
    "images = data.find_all('div',attrs={\"class\":\"story_image_main\"})\n",
    "f=open('title.txt','a')\n",
    "for image in image_data:\n",
    "     f.write(\"IMAGE:- \"+image['src']+'\\n')\n",
    "f.close()"
   ]
  },
  {
   "cell_type": "code",
   "execution_count": 22,
   "metadata": {},
   "outputs": [],
   "source": [
    "date_data = data.find_all('div',attrs={\"ins_dateline\"})\n",
    "f=open('title.txt','a')\n",
    "for date in date_data:\n",
    "     f.write('\\n'+\"Category | Writer | Date&Time:-'\\n' \"+date.get_text()+ '\\n')\n",
    "f.close()"
   ]
  },
  {
   "cell_type": "code",
   "execution_count": 23,
   "metadata": {},
   "outputs": [
    {
     "name": "stdout",
     "output_type": "stream",
     "text": [
      "URL:- https://www.ndtv.com/business/rbi-cuts-key-lending-rate-by-0-25-heres-what-experts-say-2111753\n",
      "Source:- NDTV\n",
      "TITLE:- RBI Cuts Key Lending Rate By 0.25%, Here's What Experts Say\n",
      "\n",
      "Content :-BENGALURU: The Reserve Bank of India (RBI) on Friday cut interest rates for a fifth straight meeting, stepping up efforts to kickstart economic growth languishing at six-year lows. The six-member monetary policy committee (MPC) cut the repo rate by 25 basis points (bps) to 5.15 per cent, in line with expectations. The reverse repo rate was reduced to 4.9 per cent. All six MPC members voted in favour of a rate cut and for retaining the accommodative stance, the statement said.Here's what experts say on the RBI's fourth bi-monthly policy review of 2019-20:Aditi Nayar, principal economist, Icra, Gurugram:\"The 25 bps rate cut is in line with our expectations, with the broad-based and sharp slowdown in economic growth momentum remaining the key focus amidst a relatively benign inflation outlook.\"\"The substantial cut in the GDP growth forecast for FY2020 underscores the extent of the growth slowdown, and the limited likelihood of an immediate revival despite the cumulative 135 bps of monetary easing undertaken by the MPC in 2019 as well as the measures announced by the government.\"\"The MPC's decision to retain the accommodative stance for as long as necessary to revive growth, is a strong signal that further rate cuts are not off the table.\"\"The upcoming GDP growth print for Q2 FY2020 is likely to influence whether a sixth consecutive rate cut is announced in December 2019, as well as the magnitude of the reduction.\" Lakshmi Iyer, chief investment officer (debt) and head products, Kotak Mahindra Asset Management Company, Mumbai:\"The MPC voted for 25 bps repo rate cut. It also remained committed to maintaining accommodative stance that aids growth-revival to the extent needed. The tone seems tilted towards a softening bias. With the intent to maintain adequate liquidity in the banking system, bond yields could remain well-anchored. This is conducive especially for short end of the yield curve. Global factors will assume centre stage now, which will determine near-term movements in the yield.\"Sujan Hajra, chief economist and executive director, Anand Rathi Shares & Stock Brokers, Mumbai:\"Despite the 25 bps rate cut being at the lower bound of expectations, RBI remains concerned on growth and guided for continued accommodative monetary policy stance. While the RBI continues to expect growth revival in the second half of FY20, growth rates have been reduced for both FY20 and Q1FY21.\"\"In line with these, the RBI maintains an expansionary stance on the liquidity side also. We now expect that rather than 5 per cent, the repo rate in this cycle would bottom out at 4.5 per cent. RBI's stance coupled with recent government measures bode well for the equity market.\"\"We also feel that the likely deeper policy rate cut coupled with focus of the RBI on transmission of policy rate cut in the credit market would result in bond yields softening more than earlier expected.\"Amar Ambani, president and Head Of Research, Yes Securities, Mumbai:\"Concerns on the fiscal side on account of lower GST revenues and corporate tax cuts possibly dissuaded the RBI from a steeper rate cut.\"\"Nevertheless, the accommodative policy action from the central bank is quite expected given the deceleration in frequency indicators and protracted slowdown in private consumption.\"\"The need of the hour is to revive the economy.\"\"In terms of future policy action, there is certainly scope for further rate move given weak domestic demand conditions and a contained inflation trajectory. We believe there is a possibility of another 15 bps to 30 bps cut.\"\"Although there is a concern regarding fiscal slippage, we sense that markets have largely baked in the fact that fiscal deficit will widen to 3.7%-3.8% of GDP.\"Rupa Rege-Nitsure, group chief economist, L&T Finance Holdings, Mumbai:\"It is a no-event monetary policy. A reduction of 25 bps was factored in by the street. What is noteworthy is the MPC's clear admission that growth has slowed significantly and broad-based demand weakness will keep headline CPI under check.\"\"There is definitely a scope for further rate cuts but as the MPC has rightly asserted, intensified efforts are needed to restore the growth momentum.\"\"In our opinion, the RBI as a central bank has done more than enough to stabilise economic settings. From here onwards, monetary easing may not achieve much incrementally.\"\"Instead of aggressive easing, what we need is the dedicated effort to remove structural constraints at individual sector level. The RBI can support this effort by focusing on financial stability.\"Sunil Damania, chief investment officer, Marketsmojo.com, Mumbai:\"With the 25 bps rate cut, the RBI has reduced the repo rate for the fifth time in a row. But because of slow transmission, this rate-cut is not getting reflected to end-customers. While there is enough push from the RBI through monetary policy to revive growth in the economy, more push is needed from the government through its fiscal policies. One of the ways the government can revive growth is by cutting personal income tax.\"\"However, on the market front, no positive impact would be seen because of slow transmission. The market still waits for another fiscal stimulus from the government.\"Barnabas Gan, economist, UOB Group, Singapore:\"The RBI has been the most aggressive central bank in Asia, injecting rate cut into the economy. Given the fact the (PM Narendra) Modi has plans to make India $5-trillion economy over the next five years, India's present growth is at a 6-year low. With the modest growth we have seen so far, it does give the RBI a reason to cut rates further.\"googletag.cmd.push(function() { googletag.display(\"adslotNativeVideo\"); });\"We have also been seeing that the government is also coming with a fiscal policy. All these moves should actually be sufficient to cushion the slowdown in India's growth.\"\"We expect the central bank to likely monitor how the growth is panning out. Given how things are going, we expect the RBI to hold its hand in December to see how the rate cuts are translating as the fiscal policy is also in place.\"Siddhartha Sanyal, chief economist and head of research, Bandhan Bank, Kolkata:\"The cut was in line with market consensus, and we wouldn't have been surprised if the magnitude of the cut was slightly higher. We continue to see inflation well-anchored. This will offer the central bank more room for easing going ahead. We see rates eventually going to sub-5% by the first half of 2020.\"\"We expect some more transmission of rate cuts to borrowers will happen given that the cumulative reduction in repo rate is now 135 basis points during 2019. But that will likely be only a gradual process, given the current weak sentiment and lack of momentum in investments and credit demand from larger corporates in several pockets of the economy.\"\"Interestingly, in the absolute lower end of the socio-economic pyramid, however, credit growth seems to be notably better at the moment.\"Rajesh Cheruvu, chief investment officer, Validus Wealth, Mumbai:\"The MPC just about met estimates by cutting rates by 25 bps. Markets were expecting more, some as high as 40 bps. While the MPC has been dovish and accommodative, the extent of FY20 real GDP downgrade from 6.9% to 6.1% in a span of 2-2.5 months only does raise questions. Couple this with the RBI's expectation of Q2FY20 CPI hardening by 30 bps over the same 2-2.5 months due to surging food prices, and the picture for bond yields is slightly worrying.\"\"Transmission yet again remains a focal point with the full impact of rate cuts still to translate to India's banking system. The RBI is doing its homework, but its arguably reactionary nature and the policy itself could leave markets with a sense of wanting for more in light of the stress seen recently in a renowned, now troubled HFC, a corporation bank and its exposure to an \"infamous\" real estate firm and the PCA (Prompt Corrective Action) on the said HFC's merger partner.\"Shilan Shah, senior India economist, Capital Economics, Singapore:\"The official policy stance remains \"accommodative\", suggesting that further loosening will follow in the near term. We are pencilling in another 25 bps cut in December.\"\"The extent of rate cuts should eventually support a pick-up in economic growth. In turn, we think that underlying price pressures will rise and push headline CPI inflation above the 4% target by the middle of next year.\"\"Given that interest rates in emerging markets rarely stay on hold for prolonged periods, we think the MPC will opt for modest rate hikes by the end of 2020.\"Anagha Deodhar, economist, ICICI Securities, Mumbai:\"We are penciling in one more rate cut, albeit of a smaller magnitude (around 15 bps). This takes our terminal repo rate expectation to 5% by the end of FY20. Likely pick-up in growth and inflation in H2 along with the fiscal stimulus provided by corporate tax cuts are likely to limit the room for MPC to cut rates.\"\"The upward revision in Q2 inflation confirms that the MPC had underestimated inflation previously.\"\"Currently, the outlook for economic growth is weak, both domestically and globally. Hence, aggressive easing of monetary policy is unlikely to boost economic growth significantly.\"Garima Kapoor, economist and vice-president, Elara Capital, Mumbai:\"While lower lending rates are welcome, they alone may not be able to turn around the sentiment in the economy. It would need to be accompanied by spending from the government.\"\"The current sluggish growth dynamics and benign outlook on inflation suggest that the MPC would have more room to cut rates.\"\"By November-end, data is likely to indicate that GDP growth in Q2 hasn't improved much from Q1 levels basis the high frequency data. We expect terminal repo rate to be 4.75% in this easing cycle.\"\"With the linking of floating lending rate to external benchmark, the transmission of rate cuts from here will be immediate. Moreover, with RBI maintaining surplus liquidity and continuing to guide for an accommodative stance, we believe the transmission is only likely to improve from here.\"K Joseph Thomas, head research, Emkay Wealth Management, Mumbai:\"The RBI has once again proved to be well ahead of the curve in unleashing monetary efficacies to combat the economic slowdown... with the cut of 25 bps (and) bringing down the repo rate to 5.15%.\"\"In conformity with this aggressive approach, the RBI is likely to continue with its campaign for more rapid transmission of the benefits to credit users, through lower rates to a large extent linked to the base rate. There may be further cuts in the rate in light of the GDP growth forecast being lowered form 6.90% to 6.10% for FY20. We need to see more action from the government for a consumption-led recovery.\"Get Breaking news, live coverage, and Latest News from India and around the world on NDTV.com. Catch all the Live TV action on NDTV 24x7 and NDTV India. Like us on Facebook or follow us on Twitter and Instagram for latest news and live news updates.\n",
      "\n",
      "IMAGE:- https://sb.scorecardresearch.com/p?c1=2&c2=9548033&cv=2.0&cj=1\n",
      "IMAGE:- https://cdn.ndtv.com/static/images/profit/profit_logo2017.png?1\n",
      "IMAGE:- https://cdn.ndtv.com/static/images/profit/profit_logo2017.png\n",
      "IMAGE:- https://c.ndtvimg.com/2019-06/sb5em08o_reserve-bank-of-india-rbi--reuters_625x300_06_June_19.jpg\n",
      "IMAGE:- https://cdn.ndtv.com/static/ndtv_2014/images/next_blog_arrow_big_new.png\n",
      "IMAGE:- https://cdn.ndtv.com/static/ndtv_2014/images/prev_blog_arrow_big_new.png\n",
      "IMAGE:- https://i.gadgets360cdn.com/large/amazon_flipkart_sales_thumb_1569712758366.jpg\n",
      "IMAGE:- https://c.ndtvimg.com/2019-08/fdusaa9g_niti-aayog-rajiv-kumar-pti_120x90_23_August_19.jpg\n",
      "IMAGE:- https://c.ndtvimg.com/2019-10/vgme6mk8_ravi-ashwin_120x90_04_October_19.jpg\n",
      "IMAGE:- https://cdn.ndtv.com/static/ndtv_2014/images/related_shadow.png\n",
      "IMAGE:- https://cdn.ndtv.com/static/images/profit/profit_logo2017.png\n",
      "IMAGE:- https://cdn.ndtv.com/static/images/reddit-btn.png\n",
      "IMAGE:- https://cdn.ndtv.com/static/ndtv_2014/images/printstory.png\n",
      "IMAGE:- //googleads.g.doubleclick.net/pagead/viewthroughconversion/968076326/?guid=ON&script=0\n",
      "IMAGE:- https://alerts.ndtv.com/images/web.png\n",
      "\n",
      "Category | Writer | Date&Time:-'\n",
      "' Economy | Thomson Reuters   | Updated: October 04, 2019 13:45 IST\n",
      "\n"
     ]
    }
   ],
   "source": [
    "f=open(\"title.txt\",'r')\n",
    "print (f.read())"
   ]
  },
  {
   "cell_type": "code",
   "execution_count": 24,
   "metadata": {},
   "outputs": [],
   "source": [
    "f=open(\"title.txt\",'r',encoding='UTF-8')\n",
    "file=f.read()\n",
    "with open(\"title.json\",'w') as f:\n",
    "    json.dump(file,f)"
   ]
  },
  {
   "cell_type": "code",
   "execution_count": null,
   "metadata": {},
   "outputs": [],
   "source": []
  }
 ],
 "metadata": {
  "kernelspec": {
   "display_name": "Python 3",
   "language": "python",
   "name": "python3"
  },
  "language_info": {
   "codemirror_mode": {
    "name": "ipython",
    "version": 3
   },
   "file_extension": ".py",
   "mimetype": "text/x-python",
   "name": "python",
   "nbconvert_exporter": "python",
   "pygments_lexer": "ipython3",
   "version": "3.7.3"
  }
 },
 "nbformat": 4,
 "nbformat_minor": 2
}
