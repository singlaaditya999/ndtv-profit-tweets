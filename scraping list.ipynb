{
 "cells": [
  {
   "cell_type": "code",
   "execution_count": 25,
   "metadata": {},
   "outputs": [
    {
     "name": "stdout",
     "output_type": "stream",
     "text": [
      "Infosys Posts 6% Rise In September Quarter Profit, Raises Revenue Guidance\n",
      "Industrial Production Shrinks 1.1% In August\n",
      "Sensex, Nifty Settle Higher Led By Gains In Infosys, HDFC\n",
      "Passenger Vehicle Sales Fall Nearly 24% In September: Industry Body SIAM\n",
      "TCS Falls After September Quarter Earnings Miss Estimates\n",
      "Indiabulls Ventures, Real Estate Approve Share Buyback Plans\n",
      "SBI Revises Fixed Deposit Interest Rates From Today\n",
      "SBI Home Loans Get Cheaper: Key Things To Know\n",
      "How To Check Status Of Your Income Tax Refund\n",
      "Your Fixed Deposit Fetches These Returns At Present. Compare Top Banks' Rates Here\n",
      "Looking To Invest In Sovereign Gold Bonds? Here's All You Need To Know\n",
      "Credit Growth Enters Single-Digit Lane As Slump Spreads\n",
      "RBI Central Board Reviews Economic Situation, Co-Operative Banks\n",
      "Foreign Exchange Reserves At New Life-Time High Of $437.83 Billion\n",
      "Jio Voice Charges May Improve Incumbents' Revenues: CARE\n",
      "IL&FS To Sell 13 Prime Properties Across Mumbai, Hyderabad, Kolkata\n",
      "Give Your Home A Sparkling New Look This Diwali With A Personal Loan\n",
      "UREQA : NDTV EPG Services \n"
     ]
    }
   ],
   "source": [
    "import urllib.request\n",
    "import requests\n",
    "from urllib.request import Request,urlopen\n",
    "from bs4 import BeautifulSoup\n",
    "import json\n",
    "base_url='https://www.ndtv.com/business?pfrom=home-header-globalnav'\n",
    "\n",
    "r=Request(base_url,headers={'User-Agent':'Mozilla/5.0'})\n",
    "open_base=urllib.request.urlopen(r)\n",
    "\n",
    "data_base=BeautifulSoup(open_base,\"html.parser\")\n",
    "f=open(\"article\",'w',encoding='UTF-8')\n",
    "all_headlines=data_base.find_all('a',attrs={\"item-title\"})\n",
    "#print(all_headlines)\n",
    "for link in all_headlines:\n",
    "    url = link.get('href')\n",
    "    r=Request(url,headers={'User-Agent':'Mozilla/5.0'})\n",
    "    #page=urlopen(r).read()\n",
    "    open_=urllib.request.urlopen(r)\n",
    "    data=BeautifulSoup(open_,\"html.parser\")\n",
    "    #print(data)\n",
    "    h_data=data.find_all('h1')\n",
    "    for head in h_data:\n",
    "        print(head.text)\n",
    "   \n",
    "    f.write(\"URL:-\"+(url)+'''\\n\\n\\n''')\n",
    "    for i in range(0,len(h_data)):\n",
    "        f.write('''\\nTITLE:\\n''')\n",
    "        f.write(h_data[i].get_text())\n",
    "        f.write('''\\n\\n\\n''')\n",
    "\n",
    "    date_data = data.find('div',attrs={\"ins_dateline\"})\n",
    "    \n",
    "    #f.write('\\n\\n'+\"Category | Writer | Date&Time:-'\\n' \"+date_data.get_text()+ '\\n\\n\\n\\n')\n",
    "    p_data=data.find_all('p')\n",
    "    #for para in p_data:\n",
    "        #print(para.text)\n",
    "    for i in range(0,len(p_data)):\n",
    "        f.write(\"Content:\\n\")\n",
    "        f.write(p_data[i].get_text())\n",
    "    \n",
    "    \n",
    "    related_urls=data.find_all('li')\n",
    "    #for u in related_urls:\n",
    "        #print(related_urls)\n",
    "    f.write('''\\n\\n\\n\\n\\nRelated news:-\\n''')\n",
    "    for i in range(0,len(related_urls)):\n",
    "        f.write(related_urls[i].get_text())\n",
    "        f.write('''\\n''')\n",
    "    \n",
    "    \n",
    "    images=data.find_all('img')\n",
    "    f.write('''\\n\\n\\nImage urls:-\\n''')\n",
    "    #print(images)\n",
    "    for i in images:\n",
    "        f.write(i['src']+'\\n')   \n",
    "    \n",
    "\n",
    "f.close()"
   ]
  },
  {
   "cell_type": "code",
   "execution_count": null,
   "metadata": {},
   "outputs": [],
   "source": []
  }
 ],
 "metadata": {
  "kernelspec": {
   "display_name": "Python 3",
   "language": "python",
   "name": "python3"
  },
  "language_info": {
   "codemirror_mode": {
    "name": "ipython",
    "version": 3
   },
   "file_extension": ".py",
   "mimetype": "text/x-python",
   "name": "python",
   "nbconvert_exporter": "python",
   "pygments_lexer": "ipython3",
   "version": "3.7.1"
  }
 },
 "nbformat": 4,
 "nbformat_minor": 2
}
