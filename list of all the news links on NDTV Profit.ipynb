{
 "cells": [
  {
   "cell_type": "code",
   "execution_count": 35,
   "metadata": {},
   "outputs": [],
   "source": [
    "import urllib.request\n",
    "import requests\n",
    "from urllib.request import Request,urlopen\n",
    "from bs4 import BeautifulSoup\n",
    "import json\n",
    "url='https://www.ndtv.com/business?pfrom=home-header-globalnav'"
   ]
  },
  {
   "cell_type": "code",
   "execution_count": 36,
   "metadata": {},
   "outputs": [],
   "source": [
    "r=Request(url,headers={'User-Agent':'Mozilla/5.0'})\n",
    "open_=urllib.request.urlopen(r)"
   ]
  },
  {
   "cell_type": "code",
   "execution_count": 37,
   "metadata": {},
   "outputs": [],
   "source": [
    "data=BeautifulSoup(open_,\"html.parser\")\n",
    "#print(data)"
   ]
  },
  {
   "cell_type": "code",
   "execution_count": 38,
   "metadata": {},
   "outputs": [
    {
     "name": "stdout",
     "output_type": "stream",
     "text": [
      "https://www.ndtv.com/business/tcs-share-price-tcs-earnings-tata-consultancy-services-september-quarter-profit-at-rs-8-042-crore-2114739\n",
      "https://www.ndtv.com/business/moodys-cuts-growth-forecast-for-india-to-5-8-this-fiscal-year-2114775\n",
      "https://www.ndtv.com/business/sensex-nifty-today-sensex-nifty-resume-decline-after-a-days-pause-2114690\n",
      "https://www.ndtv.com/business/us-billionaires-paid-lower-tax-rate-than-working-class-last-year-researchers-say-2114736\n",
      "https://www.ndtv.com/business/indusind-bank-earnings-indusind-bank-profit-rises-50-in-september-quarter-2114641\n",
      "https://www.ndtv.com/business/jios-u-turn-on-free-voice-calls-is-good-news-for-vodafone-bharti-airtel-2114674\n",
      "https://www.ndtv.com/business/sbi-fixed-deposit-fd-interest-rates-revised-from-today-october-10-latest-sbi-fd-rates-2114646\n",
      "https://www.ndtv.com/business/sbi-home-loans-to-get-cheaper-from-october-10-sbi-reduces-loan-interest-rates-less-emis-2114091\n",
      "https://www.ndtv.com/business/how-to-check-status-of-income-tax-refund-or-filed-income-tax-return-itr-online-all-steps-2113545\n",
      "https://www.ndtv.com/business/fixed-deposit-fd-interest-rate-sbi-hdfc-bank-icici-bank-pnb-offer-these-rates-on-fd-up-to-rs-2-crore-2113367\n",
      "https://www.ndtv.com/business/sovereign-gold-bonds-sgbs-gold-investment-subscription-opens-today-how-to-invest-price-here-2113138\n",
      "https://www.ndtv.com/business/reliance-jio-no-charges-for-calling-non-jio-numbers-until-existing-plan-expires-free-calls-exists-2114827\n",
      "https://www.ndtv.com/business/gst-collection-news-gst-council-sets-up-panel-to-boost-revenue-collection-2114759\n",
      "https://www.ndtv.com/business/reliance-jio-to-charge-for-calls-to-other-networks-now-here-are-the-plans-to-call-free-on-other-netw-2114250\n",
      "https://www.ndtv.com/business/reliance-jio-to-charge-6-paise-per-minute-for-making-calls-to-other-networks-2114186\n",
      "https://www.ndtv.com/business/economic-slowdown-impacting-business-this-festive-season-say-traders-2114197\n",
      "https://www.ndtv.com/business/bank-fd-interest-rates-why-fd-is-the-best-investment-option-for-you-today-2109701?pfrom=home-profithp\n",
      "https://www.ndtv.com/convergence/ndtv/corporatepage/index.aspx?pfrom=home-footer\n",
      "https://www.ndtv.com/convergence/ndtv/new/NDTVNewsAlert.aspx?pfrom=home-footer\n",
      "https://www.ndtv.com/convergence/ndtv/advertise/ndtv_leaderboard.aspx?pfrom=home-footer\n",
      "http://archives.ndtv.com/?pfrom=home-footer\n",
      "https://www.ndtv.com/page/apps?pfrom=home-footer\n",
      "https://www.ndtv.com/careers/?pfrom=home-footer\n",
      "https://www.ndtv.com/convergence/ndtv/new/dth.aspx?pfrom=home-footer\n",
      "https://www.ndtv.com/sites/ureqa-epg-ott/?pfrom=home-footer\n",
      "https://www.ndtv.com/convergence/ndtv/new/disclaimer.aspx?pfrom=home-footer\n",
      "https://www.ndtv.com/convergence/ndtv/new/feedback.aspx?pfrom=home-footer\n",
      "https://www.ndtv.com/convergence/ndtv/corporatepage/investors.aspx?pfrom=home-footer\n",
      "https://www.ndtv.com/convergence/ndtv/new/Complaint.aspx?pfrom=home-footer\n",
      "https://www.ndtv.com/soli?pfrom=home-footer\n",
      "https://www.ndtv.com/convergence/ndtv/new/termsofusage.aspx?pfrom=home-footer\n"
     ]
    }
   ],
   "source": [
    "all_headlines=data.find_all('a',attrs={\"item-title\"})\n",
    "#print(all_headlines)\n",
    "for link in all_headlines:\n",
    "    print(link.get('href'))\n"
   ]
  },
  {
   "cell_type": "code",
   "execution_count": null,
   "metadata": {},
   "outputs": [],
   "source": []
  },
  {
   "cell_type": "code",
   "execution_count": null,
   "metadata": {},
   "outputs": [],
   "source": []
  },
  {
   "cell_type": "code",
   "execution_count": null,
   "metadata": {},
   "outputs": [],
   "source": []
  }
 ],
 "metadata": {
  "kernelspec": {
   "display_name": "Python 3",
   "language": "python",
   "name": "python3"
  },
  "language_info": {
   "codemirror_mode": {
    "name": "ipython",
    "version": 3
   },
   "file_extension": ".py",
   "mimetype": "text/x-python",
   "name": "python",
   "nbconvert_exporter": "python",
   "pygments_lexer": "ipython3",
   "version": "3.7.3"
  }
 },
 "nbformat": 4,
 "nbformat_minor": 2
}
